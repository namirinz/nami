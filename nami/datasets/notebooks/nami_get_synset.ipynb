{
  "nbformat": 4,
  "nbformat_minor": 0,
  "metadata": {
    "colab": {
      "name": "nami_get_synset.ipynb",
      "provenance": [],
      "collapsed_sections": [],
      "machine_shape": "hm"
    },
    "kernelspec": {
      "name": "python3",
      "display_name": "Python 3"
    }
  },
  "cells": [
    {
      "cell_type": "code",
      "metadata": {
        "id": "Mv_2_cPFPA5R",
        "colab_type": "code",
        "colab": {}
      },
      "source": [
        "import json\n",
        "import requests\n",
        "from bs4 import BeautifulSoup\n",
        "\n",
        "page = requests.get(\"http://image-net.org/archive/words.txt\")\n",
        "soup = BeautifulSoup(page.content, 'html.parser')"
      ],
      "execution_count": null,
      "outputs": []
    },
    {
      "cell_type": "code",
      "metadata": {
        "id": "onDewnPjSgU5",
        "colab_type": "code",
        "colab": {
          "base_uri": "https://localhost:8080/",
          "height": 36
        },
        "outputId": "bbdd7c1c-44b0-42ae-963d-7302b830a946"
      },
      "source": [
        "str_soup = str(soup)\n",
        "split_urls = str_soup.split('\\n')\n",
        "\n",
        "print(split_urls[0])"
      ],
      "execution_count": null,
      "outputs": [
        {
          "output_type": "stream",
          "text": [
            "n00001740\tentity\n"
          ],
          "name": "stdout"
        }
      ]
    },
    {
      "cell_type": "code",
      "metadata": {
        "id": "Zaf38FQvTTsD",
        "colab_type": "code",
        "colab": {
          "base_uri": "https://localhost:8080/",
          "height": 323
        },
        "outputId": "ad793187-661d-4bc8-f70a-1b1e9d565f5e"
      },
      "source": [
        "dict_noun = {}\n",
        "\n",
        "def is_avaliable(noun_id):\n",
        "  url = \"http://www.image-net.org/api/text/imagenet.synset.geturls?wnid=\"+str(noun_id)\n",
        "  with requests.Session() as r:\n",
        "    page = r.get(url)\n",
        "    if str(page.content)[2] == 'T':\n",
        "      return False\n",
        "    return True\n",
        "\n",
        "length = len(split_urls)\n",
        "\n",
        "for i in range(length):\n",
        "  keys = split_urls[i].split('\\t')[1].split(',')\n",
        "  value = split_urls[i].split('\\t')[0]\n",
        "  if is_avaliable(value):\n",
        "      for key in keys:\n",
        "        key = key.strip()\n",
        "        if key not in dict_noun:\n",
        "          dict_noun[key] = [value]\n",
        "        else :\n",
        "          dict_noun[key].append(value)\n",
        "  if i%5000 == 0: \n",
        "    print(i,'from',length)"
      ],
      "execution_count": null,
      "outputs": [
        {
          "output_type": "stream",
          "text": [
            "0 from 82115\n",
            "5000 from 82115\n",
            "10000 from 82115\n",
            "15000 from 82115\n",
            "20000 from 82115\n",
            "25000 from 82115\n",
            "30000 from 82115\n",
            "35000 from 82115\n",
            "40000 from 82115\n",
            "45000 from 82115\n",
            "50000 from 82115\n",
            "55000 from 82115\n",
            "60000 from 82115\n",
            "65000 from 82115\n",
            "70000 from 82115\n",
            "75000 from 82115\n",
            "80000 from 82115\n"
          ],
          "name": "stdout"
        }
      ]
    },
    {
      "cell_type": "code",
      "metadata": {
        "id": "z0PioVcvlz0N",
        "colab_type": "code",
        "colab": {}
      },
      "source": [
        "with open('/content/drive/My Drive/synset.json', 'w') as file:\n",
        "  json.dump(dict_noun, file)"
      ],
      "execution_count": null,
      "outputs": []
    },
    {
      "cell_type": "markdown",
      "metadata": {
        "id": "3PAFglDNCzuh",
        "colab_type": "text"
      },
      "source": [
        ""
      ]
    },
    {
      "cell_type": "code",
      "metadata": {
        "id": "qHD-ZT3s_63z",
        "colab_type": "code",
        "colab": {
          "base_uri": "https://localhost:8080/",
          "height": 163
        },
        "outputId": "d365e291-e87b-4940-9450-7f93f073deff"
      },
      "source": [
        "import requests\n",
        "!pip install line_notify\n",
        "\n",
        "def line_message(message):\n",
        "  payload = {'message': message}\n",
        "  return line_send(payload)\n",
        "\n",
        "def line_sticker(sticker_id, sticker_package_id):\n",
        "  payload = {'message': ' ', 'stickerPackageId': sticker_package_id, 'stickerId': sticker_id}\n",
        "  return line_send(payload)\n",
        "\n",
        "def line_send(payload):\n",
        "  url = 'https://notify-api.line.me/api/notify'\n",
        "  token = 'hRkUVXRyCSkarLWv4Cqs78v6HnNpKl73FUxUlpWIMIJ'\n",
        "  headers = {'Authorization': 'Bearer '+token}\n",
        "  return requests.post(url, headers=headers, data=payload)\n",
        "\n",
        "line_message(\"nami_API from google colab run successfuly\")\n",
        "line_sticker(11, 1)\n"
      ],
      "execution_count": null,
      "outputs": [
        {
          "output_type": "stream",
          "text": [
            "Requirement already satisfied: line_notify in /usr/local/lib/python3.6/dist-packages (0.1.4)\n",
            "Requirement already satisfied: requests in /usr/local/lib/python3.6/dist-packages (from line_notify) (2.23.0)\n",
            "Requirement already satisfied: certifi>=2017.4.17 in /usr/local/lib/python3.6/dist-packages (from requests->line_notify) (2020.6.20)\n",
            "Requirement already satisfied: idna<3,>=2.5 in /usr/local/lib/python3.6/dist-packages (from requests->line_notify) (2.10)\n",
            "Requirement already satisfied: chardet<4,>=3.0.2 in /usr/local/lib/python3.6/dist-packages (from requests->line_notify) (3.0.4)\n",
            "Requirement already satisfied: urllib3!=1.25.0,!=1.25.1,<1.26,>=1.21.1 in /usr/local/lib/python3.6/dist-packages (from requests->line_notify) (1.24.3)\n"
          ],
          "name": "stdout"
        },
        {
          "output_type": "execute_result",
          "data": {
            "text/plain": [
              "<Response [200]>"
            ]
          },
          "metadata": {
            "tags": []
          },
          "execution_count": 87
        }
      ]
    }
  ]
}